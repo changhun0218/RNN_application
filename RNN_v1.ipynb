{
 "cells": [
  {
   "cell_type": "code",
   "execution_count": 1,
   "metadata": {},
   "outputs": [
    {
     "name": "stderr",
     "output_type": "stream",
     "text": [
      "/home/kerex/venv/lib/python3.6/site-packages/h5py/__init__.py:36: FutureWarning: Conversion of the second argument of issubdtype from `float` to `np.floating` is deprecated. In future, it will be treated as `np.float64 == np.dtype(float).type`.\n",
      "  from ._conv import register_converters as _register_converters\n"
     ]
    }
   ],
   "source": [
    "import tensorflow as tf\n",
    "import numpy as np"
   ]
  },
  {
   "cell_type": "code",
   "execution_count": 2,
   "metadata": {},
   "outputs": [],
   "source": [
    "inputs = np.load(\"../RNN_data/input.npy\")\n",
    "outputs = np.load(\"../RNN_data/output.npy\")"
   ]
  },
  {
   "cell_type": "code",
   "execution_count": null,
   "metadata": {},
   "outputs": [],
   "source": []
  },
  {
   "cell_type": "code",
   "execution_count": 3,
   "metadata": {},
   "outputs": [],
   "source": [
    "n1553=inputs[np.where(inputs[:,0]==1553)[0]]"
   ]
  },
  {
   "cell_type": "code",
   "execution_count": 4,
   "metadata": {},
   "outputs": [
    {
     "data": {
      "text/plain": [
       "(1973, 8)"
      ]
     },
     "execution_count": 4,
     "metadata": {},
     "output_type": "execute_result"
    }
   ],
   "source": [
    "n1553.shape"
   ]
  },
  {
   "cell_type": "code",
   "execution_count": 5,
   "metadata": {},
   "outputs": [],
   "source": [
    "final_input = []\n",
    "y_ = []\n",
    "\n",
    "#rnum=np.random.randint(inputs.shape[0]-8)\n",
    "for i in range(10):\n",
    "    rnum = i*20\n",
    "    temp = inputs[rnum:rnum+10,2:6]\n",
    "    final_input.append(temp)\n",
    "    y_.append(inputs[rnum+10:rnum+20,2:6])\n",
    "final_input = np.array(final_input)\n",
    "y_ = np.array(y_)"
   ]
  },
  {
   "cell_type": "code",
   "execution_count": 6,
   "metadata": {},
   "outputs": [
    {
     "name": "stdout",
     "output_type": "stream",
     "text": [
      "(10, 10, 4)\n",
      "(10, 10, 4)\n"
     ]
    },
    {
     "data": {
      "text/plain": [
       "array([[[35200, 35300, 34500, 34900],\n",
       "        [34900, 35700, 34700, 35500],\n",
       "        [35450, 35800, 34900, 35350],\n",
       "        [35000, 35450, 34250, 34700],\n",
       "        [34200, 35650, 34000, 35650],\n",
       "        [35500, 36700, 35100, 36450],\n",
       "        [36450, 36550, 35950, 36550],\n",
       "        [36500, 36900, 36000, 36400],\n",
       "        [36200, 36400, 35300, 36250],\n",
       "        [36200, 36600, 35650, 35750]],\n",
       "\n",
       "       [[33000, 34350, 32900, 34300],\n",
       "        [33900, 34450, 33850, 34100],\n",
       "        [34100, 34350, 33300, 33550],\n",
       "        [33500, 33900, 32900, 33800],\n",
       "        [34300, 35200, 34100, 35200],\n",
       "        [35150, 35450, 34600, 35250],\n",
       "        [35200, 35200, 34600, 34750],\n",
       "        [34800, 35150, 33600, 34800],\n",
       "        [34350, 34750, 34000, 34750],\n",
       "        [35500, 35500, 34650, 35400]],\n",
       "\n",
       "       [[35050, 35700, 35050, 35500],\n",
       "        [35100, 35750, 34950, 35750],\n",
       "        [35400, 35750, 35150, 35550],\n",
       "        [35800, 35800, 34600, 35200],\n",
       "        [35200, 35300, 34300, 34300],\n",
       "        [34600, 34850, 34250, 34750],\n",
       "        [34750, 35350, 34750, 35350],\n",
       "        [35400, 35500, 34550, 35050],\n",
       "        [35000, 35000, 34250, 34850],\n",
       "        [34650, 35100, 34400, 35100]],\n",
       "\n",
       "       [[36850, 37000, 36400, 37000],\n",
       "        [36700, 37000, 36200, 37000],\n",
       "        [36500, 36900, 36300, 36900],\n",
       "        [36500, 36600, 36050, 36350],\n",
       "        [36100, 36450, 34100, 35550],\n",
       "        [35500, 36250, 35500, 36250],\n",
       "        [35900, 36700, 35650, 36700],\n",
       "        [36800, 37200, 36450, 37200],\n",
       "        [37150, 37600, 37150, 37400],\n",
       "        [37400, 37700, 36950, 37700]],\n",
       "\n",
       "       [[34600, 37700, 34550, 37050],\n",
       "        [36550, 38050, 36250, 37600],\n",
       "        [37000, 37600, 36300, 37600],\n",
       "        [38100, 38500, 37200, 38000],\n",
       "        [38350, 38350, 36550, 37000],\n",
       "        [36550, 37050, 36150, 36350],\n",
       "        [35800, 37000, 35550, 37000],\n",
       "        [36500, 36650, 35700, 36300],\n",
       "        [35950, 36650, 35750, 36650],\n",
       "        [36100, 36500, 35700, 35850]],\n",
       "\n",
       "       [[38600, 39900, 38550, 39900],\n",
       "        [40100, 40250, 39300, 39350],\n",
       "        [39350, 39600, 38900, 39550],\n",
       "        [39900, 41400, 39850, 40300],\n",
       "        [40100, 41000, 39950, 40600],\n",
       "        [41200, 42150, 40650, 41400],\n",
       "        [40750, 41600, 40650, 41400],\n",
       "        [41650, 41650, 40700, 41400],\n",
       "        [40850, 41300, 40350, 41200],\n",
       "        [41150, 41300, 40050, 40750]],\n",
       "\n",
       "       [[41700, 42900, 41600, 42650],\n",
       "        [42900, 42900, 41650, 42400],\n",
       "        [42650, 42900, 41600, 42000],\n",
       "        [41700, 43400, 41450, 43250],\n",
       "        [43450, 44100, 42750, 43300],\n",
       "        [42900, 43700, 42550, 43400],\n",
       "        [43150, 44300, 42650, 43550],\n",
       "        [43550, 44400, 42550, 42900],\n",
       "        [42400, 43050, 40700, 40700],\n",
       "        [40900, 42100, 40900, 41750]],\n",
       "\n",
       "       [[42250, 42800, 41900, 42750],\n",
       "        [42800, 42850, 41700, 42200],\n",
       "        [41950, 42350, 41450, 41900],\n",
       "        [41200, 41700, 38600, 38600],\n",
       "        [39500, 39650, 37700, 38000],\n",
       "        [38100, 39500, 37550, 39400],\n",
       "        [39450, 39650, 38200, 38500],\n",
       "        [39000, 39250, 38600, 39150],\n",
       "        [39450, 39700, 38950, 39650],\n",
       "        [39600, 40600, 39500, 40000]],\n",
       "\n",
       "       [[43950, 44550, 43100, 43500],\n",
       "        [43350, 44250, 43250, 43500],\n",
       "        [43200, 43900, 42650, 43150],\n",
       "        [43800, 44350, 43400, 43500],\n",
       "        [44000, 45300, 43800, 44600],\n",
       "        [45200, 45850, 43650, 45850],\n",
       "        [45150, 45700, 43800, 44800],\n",
       "        [44300, 44900, 44250, 44450],\n",
       "        [44800, 45400, 44100, 44900],\n",
       "        [45000, 45850, 44300, 45200]],\n",
       "\n",
       "       [[43450, 44150, 43050, 43900],\n",
       "        [43600, 44500, 43450, 44000],\n",
       "        [44450, 44500, 43750, 43900],\n",
       "        [43550, 43750, 42000, 43200],\n",
       "        [43200, 43350, 42150, 42600],\n",
       "        [42400, 42750, 41400, 41900],\n",
       "        [41600, 41900, 40700, 41100],\n",
       "        [41200, 41850, 40850, 41800],\n",
       "        [41850, 41850, 40850, 40850],\n",
       "        [40550, 41850, 40100, 41300]]])"
      ]
     },
     "execution_count": 6,
     "metadata": {},
     "output_type": "execute_result"
    }
   ],
   "source": [
    "print(final_input.shape)\n",
    "print(y_.shape)\n",
    "final_input\n",
    "y_"
   ]
  },
  {
   "cell_type": "code",
   "execution_count": 7,
   "metadata": {},
   "outputs": [
    {
     "data": {
      "text/plain": [
       "array([[31100, 32350, 31050, 31900],\n",
       "       [31900, 32800, 31900, 32800],\n",
       "       [33200, 33650, 33100, 33500],\n",
       "       [34850, 35500, 34350, 34850],\n",
       "       [35000, 35500, 34550, 34900],\n",
       "       [35200, 36450, 34950, 36450],\n",
       "       [37750, 37800, 36850, 36850],\n",
       "       [36850, 37500, 36600, 37400],\n",
       "       [37900, 38350, 36800, 36950],\n",
       "       [36550, 37500, 36550, 37200]])"
      ]
     },
     "execution_count": 7,
     "metadata": {},
     "output_type": "execute_result"
    }
   ],
   "source": [
    "inputs[300:310,2:6]"
   ]
  },
  {
   "cell_type": "code",
   "execution_count": 8,
   "metadata": {},
   "outputs": [
    {
     "ename": "NameError",
     "evalue": "name 'states' is not defined",
     "output_type": "error",
     "traceback": [
      "\u001b[0;31m---------------------------------------------------------------------------\u001b[0m",
      "\u001b[0;31mNameError\u001b[0m                                 Traceback (most recent call last)",
      "\u001b[0;32m<ipython-input-8-ebfdbbb7c355>\u001b[0m in \u001b[0;36m<module>\u001b[0;34m()\u001b[0m\n\u001b[0;32m----> 1\u001b[0;31m \u001b[0;32mdel\u001b[0m \u001b[0moutputs\u001b[0m\u001b[0;34m,\u001b[0m \u001b[0mstates\u001b[0m\u001b[0;34m\u001b[0m\u001b[0m\n\u001b[0m",
      "\u001b[0;31mNameError\u001b[0m: name 'states' is not defined"
     ]
    }
   ],
   "source": [
    "del outputs, states"
   ]
  },
  {
   "cell_type": "code",
   "execution_count": 17,
   "metadata": {},
   "outputs": [],
   "source": [
    "n_inputs = 4\n",
    "n_outputs = 4\n",
    "n_neurons = 200\n",
    "n_time_steps = 10\n",
    "\n",
    "tf.reset_default_graph()\n",
    "\n",
    "X = tf.placeholder(tf.float32, [None, n_time_steps, n_inputs])\n",
    "y = tf.placeholder(tf.float32, [None, n_time_steps, n_outputs])\n",
    "basic_cell = tf.contrib.rnn.OutputProjectionWrapper(\n",
    "    tf.contrib.rnn.BasicRNNCell(num_units=n_neurons, activation=tf.nn.relu), output_size=n_outputs)\n",
    "outputs, states = tf.nn.dynamic_rnn(basic_cell, X, dtype=tf.float32)"
   ]
  },
  {
   "cell_type": "code",
   "execution_count": 52,
   "metadata": {},
   "outputs": [
    {
     "name": "stdout",
     "output_type": "stream",
     "text": [
      "5120028.0\n"
     ]
    }
   ],
   "source": [
    "learning_rate = 0.01\n",
    "loss = tf.reduce_mean(tf.square(outputs - y))\n",
    "optimizer = tf.train.AdamOptimizer(learning_rate=learning_rate)\n",
    "train_op = optimizer.minimize(loss)\n",
    "\n",
    "init = tf.global_variables_initializer()\n",
    "with tf.Session() as sess:\n",
    "    init.run()\n",
    "    for _ in range(100):\n",
    "        sess.run(train_op, feed_dict={X:final_input, y:y_})\n",
    "        \n",
    "    print(loss.eval(feed_dict={X: final_input, y:y_}))\n",
    "    y_pred = sess.run(outputs, feed_dict={X: inputs[300:310,2:6].reshape(-1,10,4)})"
   ]
  },
  {
   "cell_type": "code",
   "execution_count": 53,
   "metadata": {},
   "outputs": [
    {
     "data": {
      "text/plain": [
       "array([[31100, 32350, 31050, 31900],\n",
       "       [31900, 32800, 31900, 32800],\n",
       "       [33200, 33650, 33100, 33500],\n",
       "       [34850, 35500, 34350, 34850],\n",
       "       [35000, 35500, 34550, 34900],\n",
       "       [35200, 36450, 34950, 36450],\n",
       "       [37750, 37800, 36850, 36850],\n",
       "       [36850, 37500, 36600, 37400],\n",
       "       [37900, 38350, 36800, 36950],\n",
       "       [36550, 37500, 36550, 37200]])"
      ]
     },
     "execution_count": 53,
     "metadata": {},
     "output_type": "execute_result"
    }
   ],
   "source": [
    "inputs[300:310,2:6]"
   ]
  },
  {
   "cell_type": "code",
   "execution_count": 55,
   "metadata": {},
   "outputs": [
    {
     "data": {
      "text/plain": [
       "array([[[31554.379, 32376.918, 31372.92 , 32129.436],\n",
       "        [32693.111, 33067.617, 32272.41 , 32819.082],\n",
       "        [33723.227, 33994.234, 33109.45 , 33652.203],\n",
       "        [34959.84 , 35823.344, 34468.234, 35126.184],\n",
       "        [35735.65 , 36117.043, 35154.02 , 35700.645],\n",
       "        [36365.973, 36887.1  , 35869.33 , 36429.934],\n",
       "        [37723.836, 38404.113, 37048.81 , 37906.78 ],\n",
       "        [37838.715, 38327.12 , 37280.58 , 37826.668],\n",
       "        [38226.516, 38865.105, 37622.406, 38348.09 ],\n",
       "        [37839.535, 38275.52 , 37281.055, 37771.277]]], dtype=float32)"
      ]
     },
     "execution_count": 55,
     "metadata": {},
     "output_type": "execute_result"
    }
   ],
   "source": [
    "y_pred"
   ]
  },
  {
   "cell_type": "code",
   "execution_count": 56,
   "metadata": {},
   "outputs": [
    {
     "data": {
      "text/plain": [
       "array([[37050, 37900, 37050, 37850],\n",
       "       [37800, 37950, 37250, 37900],\n",
       "       [38300, 38400, 37300, 37500],\n",
       "       [37150, 38050, 37150, 37650],\n",
       "       [37650, 38400, 37600, 38000],\n",
       "       [38400, 38400, 37550, 38050],\n",
       "       [37800, 39000, 37700, 38900],\n",
       "       [38900, 38900, 38100, 38600],\n",
       "       [38350, 38350, 36800, 37650],\n",
       "       [37200, 37650, 35600, 36550]])"
      ]
     },
     "execution_count": 56,
     "metadata": {},
     "output_type": "execute_result"
    }
   ],
   "source": [
    "inputs[310:320,2:6]"
   ]
  },
  {
   "cell_type": "code",
   "execution_count": null,
   "metadata": {},
   "outputs": [],
   "source": []
  },
  {
   "cell_type": "code",
   "execution_count": null,
   "metadata": {},
   "outputs": [],
   "source": []
  }
 ],
 "metadata": {
  "kernelspec": {
   "display_name": "Python 3",
   "language": "python",
   "name": "python3"
  },
  "language_info": {
   "codemirror_mode": {
    "name": "ipython",
    "version": 3
   },
   "file_extension": ".py",
   "mimetype": "text/x-python",
   "name": "python",
   "nbconvert_exporter": "python",
   "pygments_lexer": "ipython3",
   "version": "3.6.5"
  }
 },
 "nbformat": 4,
 "nbformat_minor": 2
}
